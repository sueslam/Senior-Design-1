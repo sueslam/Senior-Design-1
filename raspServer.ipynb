{
 "cells": [
  {
   "cell_type": "code",
   "execution_count": 1,
   "metadata": {},
   "outputs": [],
   "source": [
    "import socket\n",
    "import numpy as np\n",
    "from PIL import Image\n",
    "import matplotlib.pyplot as plt\n",
    "import scipy.signal as sig\n",
    "import datetime"
   ]
  },
  {
   "cell_type": "markdown",
   "metadata": {},
   "source": [
    "* AF_INET -> relates to the type of address that socket can interact with, in this case its IPv4\n",
    "* SOCK_STREAM -> relates to TCP (connection-based portocol)\n",
    "* SOCK_DGRAM -> relates to UDP (datagram-based protocol), send a msg, get reply, end connection\n",
    "* Should use TCP for this\n",
    "* SOL_SOCKET & SO_REUSEADDR -> allows the addr/port to be reused immediately instead of being stuck in TIME_WAIT waiting for late packets"
   ]
  },
  {
   "cell_type": "code",
   "execution_count": 2,
   "metadata": {},
   "outputs": [],
   "source": [
    "def startServer(hostName = socket.gethostbyname('0.0.0.0'), portNum = 6000, bufferSize = 2048):\n",
    "    sock = socket.socket(socket.AF_INET, socket.SOCK_STREAM)\n",
    "    sock.setsockopt(socket.SOL_SOCKET, socket.SO_REUSEADDR, 1)\n",
    "    sock.bind((hostName, portNum))\n",
    "    sock.settimeout(100)\n",
    "    sock.listen(1)\n",
    "    print('Listening on {}'.format(portNum))\n",
    "    return sock"
   ]
  },
  {
   "cell_type": "code",
   "execution_count": 3,
   "metadata": {},
   "outputs": [],
   "source": [
    "def connectToRasp(socketObj):\n",
    "    conn, addr = socketObj.accept()\n",
    "    print(\"Connection address: \", addr)\n",
    "    return conn"
   ]
  },
  {
   "cell_type": "code",
   "execution_count": 25,
   "metadata": {},
   "outputs": [],
   "source": [
    "def getDataFromRasp(connectionObj, decodeType='str', bufferSize = 2048):\n",
    "    # default is np array b/c for the most part the computer will be getting images\n",
    "    if decodeType == 'str':\n",
    "        return connectionObj.recv(bufferSize).decode('utf-8')\n",
    "    if decodeType == 'list':\n",
    "        return connectionObj.recv(bufferSize)"
   ]
  },
  {
   "cell_type": "code",
   "execution_count": 5,
   "metadata": {},
   "outputs": [],
   "source": [
    "def sendDataToRasp(connectionObj, data):\n",
    "    connectionObj.send(bytes(data, 'utf-8'))"
   ]
  },
  {
   "cell_type": "code",
   "execution_count": 6,
   "metadata": {},
   "outputs": [],
   "source": [
    "def close(socketObj, connectionObj):\n",
    "    socketObj.close()\n",
    "    connectionObj.close()"
   ]
  },
  {
   "cell_type": "code",
   "execution_count": 96,
   "metadata": {},
   "outputs": [
    {
     "name": "stdout",
     "output_type": "stream",
     "text": [
      "Listening on 6000\n",
      "Connection address:  ('192.168.29.171', 48824)\n"
     ]
    }
   ],
   "source": [
    "s = startServer()\n",
    "raspC = connectToRasp(s)"
   ]
  },
  {
   "cell_type": "markdown",
   "metadata": {},
   "source": [
    "#### Comm Protocol\n",
    "1. Server sends \"Start\" -> to signal that it is okay to receive image data\n",
    "2. Client send Image data -> waits for Server to send \"Start\"\n",
    "3. Server collects all data that Client sent\n",
    "4. Once collection is done -> send \"Start\" to Client\n",
    "5. Server sends \"Quit\" -> End connection"
   ]
  },
  {
   "cell_type": "code",
   "execution_count": 102,
   "metadata": {},
   "outputs": [],
   "source": [
    "def requestImageFromClient(connectionObj):\n",
    "    # Init the process\n",
    "    sendDataToRasp(connectionObj, 'send image')\n",
    "    # Agreeed upon resolution, 640 by 480, will be stored below\n",
    "    skele = np.zeros((640, 480,3), dtype=np.uint8)\n",
    "    \n",
    "    for i in range(640):\n",
    "        tempRow = list(getDataFromRasp(connectionObj, decodeType='list'))\n",
    "        if len(tempRow) != 480:\n",
    "            print('not 480')\n",
    "            break\n",
    "        skele[i, :, 2] = tempRow\n",
    "        sendDataToRasp(connectionObj, 'next row')\n",
    "        \n",
    "    for i in range(640):\n",
    "        tempRow = list(getDataFromRasp(connectionObj, decodeType='list'))\n",
    "        if len(tempRow) != 480:\n",
    "            print('not 480')\n",
    "            break\n",
    "        skele[i, :, 1] = tempRow\n",
    "        sendDataToRasp(connectionObj, 'next row')\n",
    "        \n",
    "    for i in range(640):\n",
    "        tempRow = list(getDataFromRasp(connectionObj, decodeType='list'))\n",
    "        if len(tempRow) != 480:\n",
    "            print('not 480')\n",
    "            break\n",
    "        skele[i, :, 0] = tempRow\n",
    "        sendDataToRasp(connectionObj, 'next row')\n",
    "    \n",
    "    return skele"
   ]
  },
  {
   "cell_type": "code",
   "execution_count": 100,
   "metadata": {},
   "outputs": [],
   "source": [
    "startTime = datetime.datetime.now()"
   ]
  },
  {
   "cell_type": "code",
   "execution_count": 101,
   "metadata": {
    "collapsed": true,
    "jupyter": {
     "outputs_hidden": true
    }
   },
   "outputs": [
    {
     "name": "stdout",
     "output_type": "stream",
     "text": [
      "0\n",
      "1\n",
      "2\n",
      "3\n",
      "4\n",
      "5\n",
      "6\n",
      "7\n",
      "8\n",
      "9\n",
      "10\n",
      "11\n",
      "12\n",
      "13\n",
      "14\n",
      "15\n",
      "16\n",
      "17\n",
      "18\n",
      "19\n",
      "20\n",
      "21\n",
      "22\n",
      "23\n",
      "24\n",
      "25\n",
      "26\n",
      "27\n",
      "28\n",
      "29\n",
      "30\n",
      "31\n",
      "32\n",
      "33\n",
      "34\n",
      "35\n",
      "36\n",
      "37\n",
      "38\n",
      "39\n",
      "40\n",
      "41\n",
      "42\n",
      "43\n",
      "44\n",
      "45\n",
      "46\n",
      "47\n",
      "48\n",
      "49\n"
     ]
    }
   ],
   "source": [
    "for i in range(50):\n",
    "    imgD = requestImageFromClient(raspC)\n",
    "    Image.fromarray(imgD).save('images/imgD{}.jpg'.format(i))\n",
    "    print(i)\n",
    "endTime = datetime.datetime.now()"
   ]
  },
  {
   "cell_type": "code",
   "execution_count": 95,
   "metadata": {},
   "outputs": [],
   "source": [
    "close(s, raspC)"
   ]
  },
  {
   "cell_type": "code",
   "execution_count": 103,
   "metadata": {},
   "outputs": [],
   "source": [
    "import cv2"
   ]
  },
  {
   "cell_type": "code",
   "execution_count": 104,
   "metadata": {},
   "outputs": [],
   "source": [
    "sendDataToRasp(raspC, 'end')"
   ]
  },
  {
   "cell_type": "code",
   "execution_count": 105,
   "metadata": {},
   "outputs": [],
   "source": [
    "close(s, raspC)"
   ]
  },
  {
   "cell_type": "code",
   "execution_count": null,
   "metadata": {},
   "outputs": [],
   "source": []
  }
 ],
 "metadata": {
  "kernelspec": {
   "display_name": "Python 3",
   "language": "python",
   "name": "python3"
  },
  "language_info": {
   "codemirror_mode": {
    "name": "ipython",
    "version": 3
   },
   "file_extension": ".py",
   "mimetype": "text/x-python",
   "name": "python",
   "nbconvert_exporter": "python",
   "pygments_lexer": "ipython3",
   "version": "3.7.3"
  }
 },
 "nbformat": 4,
 "nbformat_minor": 4
}
